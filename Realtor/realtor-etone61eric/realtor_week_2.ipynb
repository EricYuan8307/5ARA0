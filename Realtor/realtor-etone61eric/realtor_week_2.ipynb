{
 "cells": [
  {
   "cell_type": "markdown",
   "metadata": {},
   "source": [
    "con# Realtor (Week 2)\n",
    "\n",
    "**Topics:** _DataFrames, pytest, matplotlib_\n",
    "\n",
    "This notebook provides you with instructions for the Realtor project and a runtime environment for experimenting with your code. Before you can run the code in this notebook you'll need to select a _kernel_ that specifies the python version and Virtual Environment for running this notebook. Top-right in VSCode you'll find a button that opens a \"Change kernel\" menu. From this menu, select the `realtor39` kernel.\n",
    "\n",
    "\n",
    "## Completing Assignments\n",
    "\n",
    "Your solutions to the assignments should be implemented in the python files (`*.py`) under the project directory. These files indicate per assignment which sections you need to complete. After completing an assignment, commit and push your changes to GitHub. Your project will then be automatically evaluated against the test suite. As you continue to complete assignments, more tests should pass.\n",
    "\n",
    "Some assignments present open questions. These questions need to be answered _in the python files_ as well, under the indicated sections. The notebooks only offer guidance and an environment for you to experiment. That is, the notebooks are not evaluated for grading, only your answers provided in the python files count towards your grade. Your code and answers should be correct, concise and readable. We also look for clean and concise comments and commit history. Your project is graded as-is on GitHub at the time of the deadline. Make sure to commit frequently, and push your commits to GitHub.\n",
    "\n",
    "\n",
    "## Testing\n",
    "\n",
    "The `pytest` library executes pre-defined tests that verify the functionality of your code. You can run `pytest` through VSCode. In VSCode, open the testing tab (left menu). In this tab, click `Configure Python Tests`, select `pytest` as your testing library, and select the `test` directory as the directory that houses your tests. You can now run the tests from this tab. You can alternatively run the tests from the file explorer, or via the command line with `python -m pytest`. When you run the tests you will see most of them fail (only three should pass, for now).\n",
    "\n",
    "\n",
    "## Requirement Engineering\n",
    "\n",
    "Usually, a software project starts with a conversation with the client. The client might be an external company, your boss, a family member, or anyone that requires your services. In this conversation it is important to discover their technical needs. These needs can then be captured in user stories that describe, from a user-perspective, the main modes of interaction with the application.\n",
    "\n",
    "In the project directory, the `predict_housing_prices.feature` file already describes a feature through two scenarios, from the perspective of a realtor. This feature is not just any text file; it is an actual program that can be executed using `pytest`. The individual steps for each scenario are detailed in `test_predict_housing_prices.py`. In the testing tab, run the tests for `test_predict_housing_prices.py`. You should see two failing tests, indicating that the desired functionality is not implemented yet. At the end of this project, both scenarios should (hopefully) pass.\n",
    "\n",
    "The scenarios imply pre-processed datasets, trained models, estimates and other concepts that we have not yet defined, and that's ok for now. At the start of each project it should be our priority to manage the expectations of the client. Therefore, we should also write our scenarios in the \"language\" of the client, which allows them to offer feedback on high-level funtionality early in the project. This enables us to clear up any misunderstandings and hopefully prevent double work.\n",
    "\n",
    "\n",
    "## The User Interface\n",
    "\n",
    "With an agreement on high-level functionality (and usually a signed quotation), it becomes our priority to deliver something tangible. A mockup for the user-interface is therefore usually the first order of business.\n",
    "\n",
    "The user (realtor) will enter new data through an interface, and a housing price prediction should be returned. The skeleton code already defines a `query_input_data` function that accepts two arguments, a list of `features`, and a dictionary of `categories`. This function queries the user for an input value for each of the `features`, and returns a `DataFrame` with the entered values. We can define our own features and categories, and invoke this function. You can select the cells below and run them with `shift-enter`. Executing the second cell opens up a dialog window at the top, requesting user input."
   ]
  },
  {
   "cell_type": "code",
   "execution_count": 1,
   "metadata": {},
   "outputs": [],
   "source": [
    "%load_ext autoreload\n",
    "%autoreload 2  # Automatically re-import files when updated"
   ]
  },
  {
   "cell_type": "code",
   "execution_count": 2,
   "metadata": {},
   "outputs": [
    {
     "ename": "ValueError",
     "evalue": "",
     "output_type": "error",
     "traceback": [
      "\u001b[0;31m---------------------------------------------------------------------------\u001b[0m",
      "\u001b[0;31mValueError\u001b[0m                                Traceback (most recent call last)",
      "\u001b[1;32m/Users/yunchengyuan/Documents/TU_Eindhoven/5ARA0/Realtor/realtor-etone61eric/realtor_week_2.ipynb Cell 3\u001b[0m in \u001b[0;36m<cell line: 7>\u001b[0;34m()\u001b[0m\n\u001b[1;32m      <a href='vscode-notebook-cell:/Users/yunchengyuan/Documents/TU_Eindhoven/5ARA0/Realtor/realtor-etone61eric/realtor_week_2.ipynb#W2sZmlsZQ%3D%3D?line=2'>3</a>\u001b[0m features \u001b[39m=\u001b[39m [\u001b[39m\"\u001b[39m\u001b[39mfirst_feature\u001b[39m\u001b[39m\"\u001b[39m, \u001b[39m\"\u001b[39m\u001b[39msecond_feature\u001b[39m\u001b[39m\"\u001b[39m, \u001b[39m\"\u001b[39m\u001b[39mthird_feature\u001b[39m\u001b[39m\"\u001b[39m]  \u001b[39m# Define all feature names\u001b[39;00m\n\u001b[1;32m      <a href='vscode-notebook-cell:/Users/yunchengyuan/Documents/TU_Eindhoven/5ARA0/Realtor/realtor-etone61eric/realtor_week_2.ipynb#W2sZmlsZQ%3D%3D?line=3'>4</a>\u001b[0m categories \u001b[39m=\u001b[39m {\u001b[39m\"\u001b[39m\u001b[39msecond_feature\u001b[39m\u001b[39m\"\u001b[39m: [\u001b[39m\"\u001b[39m\u001b[39mA\u001b[39m\u001b[39m\"\u001b[39m, \u001b[39m\"\u001b[39m\u001b[39mB\u001b[39m\u001b[39m\"\u001b[39m],\n\u001b[1;32m      <a href='vscode-notebook-cell:/Users/yunchengyuan/Documents/TU_Eindhoven/5ARA0/Realtor/realtor-etone61eric/realtor_week_2.ipynb#W2sZmlsZQ%3D%3D?line=4'>5</a>\u001b[0m               \u001b[39m\"\u001b[39m\u001b[39mthird_feature\u001b[39m\u001b[39m\"\u001b[39m:  [\u001b[39m\"\u001b[39m\u001b[39mC\u001b[39m\u001b[39m\"\u001b[39m, \u001b[39m\"\u001b[39m\u001b[39mD\u001b[39m\u001b[39m\"\u001b[39m]}  \u001b[39m# Define valid categories for features that are considered categorical\u001b[39;00m\n\u001b[0;32m----> <a href='vscode-notebook-cell:/Users/yunchengyuan/Documents/TU_Eindhoven/5ARA0/Realtor/realtor-etone61eric/realtor_week_2.ipynb#W2sZmlsZQ%3D%3D?line=6'>7</a>\u001b[0m query_input_data(features, categories)\n",
      "File \u001b[0;32m~/Documents/TU_Eindhoven/5ARA0/Realtor/realtor-etone61eric/housing_data_loader.py:40\u001b[0m, in \u001b[0;36mquery_input_data\u001b[0;34m(features, categories)\u001b[0m\n\u001b[1;32m     38\u001b[0m \u001b[39mfor\u001b[39;00m feature \u001b[39min\u001b[39;00m features:\n\u001b[1;32m     39\u001b[0m     raw_value \u001b[39m=\u001b[39m \u001b[39minput\u001b[39m(\u001b[39mf\u001b[39m\u001b[39m\"\u001b[39m\u001b[39m{\u001b[39;00mfeature\u001b[39m}\u001b[39;00m\u001b[39m: \u001b[39m\u001b[39m\"\u001b[39m)  \u001b[39m# Request input\u001b[39;00m\n\u001b[0;32m---> 40\u001b[0m     (_, sanitized_value) \u001b[39m=\u001b[39m sanitize_data_entry(feature, raw_value, features, categories)\n\u001b[1;32m     41\u001b[0m     input_data[feature]\u001b[39m.\u001b[39mappend(sanitized_value)  \u001b[39m# Update dictionary with entry\u001b[39;00m\n\u001b[1;32m     43\u001b[0m \u001b[39mreturn\u001b[39;00m pd\u001b[39m.\u001b[39mDataFrame(input_data)\n",
      "File \u001b[0;32m~/Documents/TU_Eindhoven/5ARA0/Realtor/realtor-etone61eric/housing_data_loader.py:61\u001b[0m, in \u001b[0;36msanitize_data_entry\u001b[0;34m(feature, raw_value, features, categories)\u001b[0m\n\u001b[1;32m     59\u001b[0m \u001b[39mif\u001b[39;00m feature \u001b[39min\u001b[39;00m categories\u001b[39m.\u001b[39mkeys():\n\u001b[1;32m     60\u001b[0m     \u001b[39mif\u001b[39;00m raw_value \u001b[39mnot\u001b[39;00m \u001b[39min\u001b[39;00m categories[feature]:\n\u001b[0;32m---> 61\u001b[0m         \u001b[39mraise\u001b[39;00m \u001b[39mValueError\u001b[39;00m\n\u001b[1;32m     62\u001b[0m     sanitized_value \u001b[39m=\u001b[39m raw_value\n\u001b[1;32m     63\u001b[0m     \u001b[39mreturn\u001b[39;00m feature, sanitized_value\n",
      "\u001b[0;31mValueError\u001b[0m: "
     ]
    }
   ],
   "source": [
    "from housing_data_loader import *\n",
    "\n",
    "features = [\"first_feature\", \"second_feature\", \"third_feature\"]  # Define all feature names\n",
    "categories = {\"second_feature\": [\"A\", \"B\"],\n",
    "              \"third_feature\":  [\"C\", \"D\"]}  # Define valid categories for features that are considered categorical\n",
    "\n",
    "query_input_data(features, categories)  # Query the user for input"
   ]
  },
  {
   "cell_type": "markdown",
   "metadata": {},
   "source": [
    "Features for which valid categories are defined in the `categories` dictionary are considered categorical (i.e. `second_feature` and `third_feature`). Any remaining features (i.e. `first_feature`) are considered numeric. Note that we have only defined three features (for now) which bear no connection to the actual dataset. This is done to ensure an inherent modularity. By decoupling software design from dataset-specific properties (e.g. actual feature names), functionality is more easily tested and better reusable across applications.\n",
    "\n",
    "Currently there is no input validation. We are free to enter any value we like, which will lead to compatibility and possibly even security issues (e.g. code injection). Currently, the user is free to enter any category, and numbers are not converted to `float`. Therefore, we wish to write a `sanitize_data_entry(feature, raw_value, features, categories)` method that accepts the feature name and its corresponding input value, plus the list of valid features and categories. This function should return a tuple `(feature, sanitized_value)`, with the orginal feature name and the sanitized user input."
   ]
  },
  {
   "cell_type": "markdown",
   "metadata": {},
   "source": [
    "### Assignment 2.1\n",
    "\n",
    "Before implementing the `sanitize_data_entry` function, we first need to write unit-tests that outline the desired validation functionality. Some tests are already implemented in `test_housing_data_loader.py`. Valid modes of behaviour specify allowed (desired) input-output combinations, while invalid modes of behaviour specify which inputs are disallowed and should raise an error.\n",
    "\n",
    "In `test_housing_data_loader.py`, write six _additional_ tests that verify the following functionality:\n",
    "\n",
    "- Valid modes of behaviour\n",
    "  - For a numeric feature, the raw input value (e.g. `\"1\"`) should be converted to float: `(\"first_feature\", 1.0)`\n",
    "  - For a categorical feature, the raw input value (e.g. `\"A\"`) should remain a string: `(\"second_feature\", \"A\")`\n",
    "  - For a numeric feature, an empty input (`\"\"`), should be interpreted as `nan` (not a number): `(\"first_feature\", np.nan)`\n",
    "<br><br>\n",
    "- Invalid modes of behaviour\n",
    "  - A numeric entry with a non-numeric input should raise a `ValueError`\n",
    "  - A categorical feature for which the input is not present within the valid categories should raise a `ValueError`\n",
    "  - An entry for which the queried feature is not within the list of valid features should raise a `ValueError`\n",
    "\n",
    "Complete the `test_sanitize_data_entry` test to verify whether the `sanitize_data_entry` function satisfies the above requirements. Run your tests and verify that they fail."
   ]
  },
  {
   "cell_type": "markdown",
   "metadata": {},
   "source": [
    "### Assignment 2.2\n",
    "\n",
    "With the input sanitation tests implemented, we can start writing the actual functionality. In `housing_data_loader.py`, complete the `sanitize_data_entry` function so that the sanitation tests pass, and refactor your code for readability."
   ]
  },
  {
   "cell_type": "markdown",
   "metadata": {},
   "source": [
    "### Assignment 2.3\n",
    "\n",
    "With the input validation finished, you can `commit` our changes and `push` them to GitHub. Open your (VSCode) console and type `git status`. You should see that some changes are detected. Type `git add --all` to track any new files, and then commit your changes through `git commit -m \"<your description here>\"`, where you substitute a short and to-the-point description of your changes. Usually, good times to commit are after completing a step in the \"red-green-refactor\" development cycle; i.e. after completing a new test, new functionality or a refactor. Push your changes to GitHub by typing `git push origin master`."
   ]
  },
  {
   "cell_type": "markdown",
   "metadata": {},
   "source": [
    "## The California Housing Data Set\n",
    "\n",
    "Note that up until now we have not required the actual dataset. Although we made assumptions about the structure of the data (i.e. numeric and categorical features), the user interface itself is agnostic of the eventual features and data entries. This is important, because it ensures that our tests are objective and independent of the actual data.\n",
    "\n",
    "Our actual data set will cover nine numeric features and one categorical feature. The names and categories associated with these features are already defined by the `FEATURES` and `CATEGORIES` static variables respectively, as found in `housing_data_loader.py`. Let's inspect them."
   ]
  },
  {
   "cell_type": "code",
   "execution_count": null,
   "metadata": {},
   "outputs": [
    {
     "data": {
      "text/plain": [
       "['longitude',\n",
       " 'latitude',\n",
       " 'housing_median_age',\n",
       " 'total_rooms',\n",
       " 'total_bedrooms',\n",
       " 'population',\n",
       " 'households',\n",
       " 'median_income',\n",
       " 'ocean_proximity']"
      ]
     },
     "execution_count": 4,
     "metadata": {},
     "output_type": "execute_result"
    }
   ],
   "source": [
    "FEATURES"
   ]
  },
  {
   "cell_type": "markdown",
   "metadata": {},
   "source": [
    "The `FEATURES` variable defines the list of features that are required for predicting local housing values. For the categorical `ocean_proximity` feature, additional categories are defined."
   ]
  },
  {
   "cell_type": "code",
   "execution_count": null,
   "metadata": {},
   "outputs": [
    {
     "data": {
      "text/plain": [
       "{'ocean_proximity': ['<1H OCEAN',\n",
       "  'INLAND',\n",
       "  'ISLAND',\n",
       "  'NEAR BAY',\n",
       "  'NEAR OCEAN']}"
      ]
     },
     "execution_count": 5,
     "metadata": {},
     "output_type": "execute_result"
    }
   ],
   "source": [
    "CATEGORIES"
   ]
  },
  {
   "cell_type": "markdown",
   "metadata": {},
   "source": [
    "We can verify that our `query_input_data` function works for these features. Invoking the function without arguments will substitute the default static variables, as can be seen in the `query_input_data` method definition."
   ]
  },
  {
   "cell_type": "code",
   "execution_count": null,
   "metadata": {},
   "outputs": [
    {
     "data": {
      "text/html": [
       "<div>\n",
       "<style scoped>\n",
       "    .dataframe tbody tr th:only-of-type {\n",
       "        vertical-align: middle;\n",
       "    }\n",
       "\n",
       "    .dataframe tbody tr th {\n",
       "        vertical-align: top;\n",
       "    }\n",
       "\n",
       "    .dataframe thead th {\n",
       "        text-align: right;\n",
       "    }\n",
       "</style>\n",
       "<table border=\"1\" class=\"dataframe\">\n",
       "  <thead>\n",
       "    <tr style=\"text-align: right;\">\n",
       "      <th></th>\n",
       "      <th>longitude</th>\n",
       "      <th>latitude</th>\n",
       "      <th>housing_median_age</th>\n",
       "      <th>total_rooms</th>\n",
       "      <th>total_bedrooms</th>\n",
       "      <th>population</th>\n",
       "      <th>households</th>\n",
       "      <th>median_income</th>\n",
       "      <th>ocean_proximity</th>\n",
       "    </tr>\n",
       "  </thead>\n",
       "  <tbody>\n",
       "    <tr>\n",
       "      <th>0</th>\n",
       "      <td>1.0</td>\n",
       "      <td>2.0</td>\n",
       "      <td>3.0</td>\n",
       "      <td>6.0</td>\n",
       "      <td>4.0</td>\n",
       "      <td>5.0</td>\n",
       "      <td>8.0</td>\n",
       "      <td>9.0</td>\n",
       "      <td>ISLAND</td>\n",
       "    </tr>\n",
       "  </tbody>\n",
       "</table>\n",
       "</div>"
      ],
      "text/plain": [
       "   longitude  latitude  housing_median_age  total_rooms  total_bedrooms  \\\n",
       "0        1.0       2.0                 3.0          6.0             4.0   \n",
       "\n",
       "   population  households  median_income ocean_proximity  \n",
       "0         5.0         8.0            9.0          ISLAND  "
      ]
     },
     "execution_count": 7,
     "metadata": {},
     "output_type": "execute_result"
    }
   ],
   "source": [
    "query_input_data()"
   ]
  },
  {
   "cell_type": "markdown",
   "metadata": {},
   "source": [
    "Usually, the development of a user interface is an ongoing process in collaboration with the client and end users. The interface we developed here is of course very rudimentary. Eventually, it could be included as part of a web application with additional visual layout, instructions and feedback to the user. However, even showing a rudimentary version to the client may already offer valuable insights.\n",
    "\n",
    "## Feature Request\n",
    "\n",
    "For example, the client might explain that the system for price estimation will be coupled with an investment recommender system. This way the client hopes to be automatically informed about investment opportunities."
   ]
  },
  {
   "cell_type": "markdown",
   "metadata": {},
   "source": [
    "### Assignment 2.4\n",
    "\n",
    "In `recommend_investments.feature`, draft a propsal for this feature from the perspective of an investor. Work out two scenarios:\n",
    "\n",
    "- _evaluate opportunities_; every day at midnight the recommender system runs its algorithm against the current database and compares the entries with a historical record. Investment potential is then evaluated per district.\n",
    "- _raise opportunity notification_; upon an extraordinary opportunity, the investor wants to be notified directly after logging in to the system.\n",
    "\n",
    "In this assignment you don't need to implement the actual code for the steps; just the feature, scenario and step specifications following the [Gherkin](https://en.wikipedia.org/wiki/Cucumber_(software)#Gherkin_language) syntax. Pay special attention to the following:\n",
    "- Your feature description should describe a _single goal_ from the user perspective;\n",
    "- Your feature description should follow the (\"In order to\", \"As a\", \"I want to\") structure;\n",
    "- Steps should describe behaviour, not technical implementation;\n",
    "- You can use `And` statements to chain multiple consecutive step definitions;\n",
    "- Not all details in the description might be relevant for your tests."
   ]
  },
  {
   "cell_type": "markdown",
   "metadata": {},
   "source": [
    "### Assignment 2.5\n",
    "\n",
    "The additionally requested investment recommender feature has implications for data collection and analysis. In `recommend_investments.feature`, answer the following open questions:\n",
    "\n",
    "- How will the proposed recommender system affect the dataset?\n",
    "- What sort of model would be suited for predicting housing price development?\n",
    "- How can you monitor and evaluate recommendation performance once the system is deployed?"
   ]
  }
 ],
 "metadata": {
  "kernelspec": {
   "display_name": "Python 3.9.13 ('realtor39')",
   "language": "python",
   "name": "python3"
  },
  "language_info": {
   "codemirror_mode": {
    "name": "ipython",
    "version": 3
   },
   "file_extension": ".py",
   "mimetype": "text/x-python",
   "name": "python",
   "nbconvert_exporter": "python",
   "pygments_lexer": "ipython3",
   "version": "3.9.13"
  },
  "vscode": {
   "interpreter": {
    "hash": "69f822aab81a6bf96ed7aa289fd941e82dd8fc5596fdf73ace2c849b276095b6"
   }
  }
 },
 "nbformat": 4,
 "nbformat_minor": 4
}
